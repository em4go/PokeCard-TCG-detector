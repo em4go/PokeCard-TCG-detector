{
 "cells": [
  {
   "cell_type": "code",
   "execution_count": 1,
   "metadata": {},
   "outputs": [],
   "source": [
    "import msgpack\n",
    "import cv2\n",
    "# import easyocr\n",
    "import imagehash\n",
    "import os\n",
    "import matplotlib.pyplot as plt\n",
    "from PIL import Image\n",
    "import pandas as pd"
   ]
  },
  {
   "cell_type": "code",
   "execution_count": 2,
   "metadata": {},
   "outputs": [
    {
     "name": "stdout",
     "output_type": "stream",
     "text": [
      "17121\n"
     ]
    }
   ],
   "source": [
    "# list files in downloaded_images folder\n",
    "card_files = set(os.listdir(\"downloaded_images\"))\n",
    "print(len(card_files))"
   ]
  },
  {
   "cell_type": "code",
   "execution_count": 3,
   "metadata": {},
   "outputs": [],
   "source": [
    "data_source = 'cards.msgpack'\n",
    "with open(data_source, 'rb') as file:\n",
    "    data = msgpack.load(file, raw=False)"
   ]
  },
  {
   "cell_type": "code",
   "execution_count": 4,
   "metadata": {},
   "outputs": [],
   "source": [
    "def get_image_route(card_id: str):\n",
    "    return card_id + '.png'"
   ]
  },
  {
   "cell_type": "code",
   "execution_count": 5,
   "metadata": {},
   "outputs": [],
   "source": [
    "def get_hashes(img):\n",
    "    perceptual = imagehash.phash(img)\n",
    "    difference = imagehash.dhash(img)\n",
    "    wavelet = imagehash.whash(img)\n",
    "    return (perceptual, difference, wavelet)"
   ]
  },
  {
   "cell_type": "code",
   "execution_count": 6,
   "metadata": {},
   "outputs": [],
   "source": [
    "df = pd.read_pickle('card_hashes.pickle')"
   ]
  },
  {
   "cell_type": "code",
   "execution_count": 7,
   "metadata": {},
   "outputs": [
    {
     "data": {
      "text/html": [
       "<div>\n",
       "<style scoped>\n",
       "    .dataframe tbody tr th:only-of-type {\n",
       "        vertical-align: middle;\n",
       "    }\n",
       "\n",
       "    .dataframe tbody tr th {\n",
       "        vertical-align: top;\n",
       "    }\n",
       "\n",
       "    .dataframe thead th {\n",
       "        text-align: right;\n",
       "    }\n",
       "</style>\n",
       "<table border=\"1\" class=\"dataframe\">\n",
       "  <thead>\n",
       "    <tr style=\"text-align: right;\">\n",
       "      <th></th>\n",
       "      <th>id</th>\n",
       "      <th>perceptual</th>\n",
       "      <th>difference</th>\n",
       "      <th>wavelet</th>\n",
       "    </tr>\n",
       "  </thead>\n",
       "  <tbody>\n",
       "    <tr>\n",
       "      <th>0</th>\n",
       "      <td>hgss4-1</td>\n",
       "      <td>9e6ec9996466b0b1</td>\n",
       "      <td>71694d654c586169</td>\n",
       "      <td>1938000006ffffff</td>\n",
       "    </tr>\n",
       "    <tr>\n",
       "      <th>1</th>\n",
       "      <td>xy5-1</td>\n",
       "      <td>bf1e85f0487ad06c</td>\n",
       "      <td>7c667551331d4d67</td>\n",
       "      <td>bf1700008187f7ff</td>\n",
       "    </tr>\n",
       "    <tr>\n",
       "      <th>2</th>\n",
       "      <td>pl1-1</td>\n",
       "      <td>da5ac1a51c1f95e4</td>\n",
       "      <td>71195d79675c5769</td>\n",
       "      <td>38800000b7effffd</td>\n",
       "    </tr>\n",
       "    <tr>\n",
       "      <th>3</th>\n",
       "      <td>dp3-1</td>\n",
       "      <td>9e5be1e1c48c87a5</td>\n",
       "      <td>317969716d5d176d</td>\n",
       "      <td>980800189f87ffff</td>\n",
       "    </tr>\n",
       "    <tr>\n",
       "      <th>4</th>\n",
       "      <td>det1-1</td>\n",
       "      <td>bb1bc0c4e43d3d91</td>\n",
       "      <td>15495979db4f5747</td>\n",
       "      <td>c5000000ff47ffff</td>\n",
       "    </tr>\n",
       "  </tbody>\n",
       "</table>\n",
       "</div>"
      ],
      "text/plain": [
       "        id        perceptual        difference           wavelet\n",
       "0  hgss4-1  9e6ec9996466b0b1  71694d654c586169  1938000006ffffff\n",
       "1    xy5-1  bf1e85f0487ad06c  7c667551331d4d67  bf1700008187f7ff\n",
       "2    pl1-1  da5ac1a51c1f95e4  71195d79675c5769  38800000b7effffd\n",
       "3    dp3-1  9e5be1e1c48c87a5  317969716d5d176d  980800189f87ffff\n",
       "4   det1-1  bb1bc0c4e43d3d91  15495979db4f5747  c5000000ff47ffff"
      ]
     },
     "execution_count": 7,
     "metadata": {},
     "output_type": "execute_result"
    }
   ],
   "source": [
    "df.head()"
   ]
  },
  {
   "cell_type": "code",
   "execution_count": 8,
   "metadata": {},
   "outputs": [
    {
     "data": {
      "text/plain": [
       "array([[ True,  True,  True,  True,  True,  True,  True,  True],\n",
       "       [ True, False, False,  True, False, False, False, False],\n",
       "       [ True, False, False,  True, False, False,  True, False],\n",
       "       [False,  True, False,  True, False, False, False,  True],\n",
       "       [ True,  True, False, False,  True, False, False,  True],\n",
       "       [False,  True, False,  True, False,  True, False,  True],\n",
       "       [ True,  True, False, False, False,  True, False,  True],\n",
       "       [False,  True,  True, False, False,  True, False,  True]])"
      ]
     },
     "execution_count": 8,
     "metadata": {},
     "output_type": "execute_result"
    }
   ],
   "source": [
    "img = cv2.imread('chimchar.jpg')\n",
    "img = Image.fromarray(img)\n",
    "img_hash = imagehash.phash(img)\n",
    "img_hash"
   ]
  },
  {
   "cell_type": "code",
   "execution_count": 9,
   "metadata": {},
   "outputs": [],
   "source": [
    "df['distance_1'] = df['perceptual'] - img_hash\n",
    "df['distance_2'] = abs(df['perceptual'] - img_hash)"
   ]
  },
  {
   "cell_type": "code",
   "execution_count": 10,
   "metadata": {},
   "outputs": [
    {
     "data": {
      "text/plain": [
       "numpy.int32"
      ]
     },
     "execution_count": 10,
     "metadata": {},
     "output_type": "execute_result"
    }
   ],
   "source": [
    "df['distance_1'] = df['distance_1'].astype('int')\n",
    "type(df['distance_1'][0])"
   ]
  },
  {
   "cell_type": "code",
   "execution_count": 11,
   "metadata": {},
   "outputs": [
    {
     "data": {
      "text/plain": [
       "1682"
      ]
     },
     "execution_count": 11,
     "metadata": {},
     "output_type": "execute_result"
    }
   ],
   "source": [
    "df['distance_1'].idxmin()"
   ]
  },
  {
   "cell_type": "code",
   "execution_count": 13,
   "metadata": {},
   "outputs": [
    {
     "data": {
      "text/plain": [
       "{'id': 'hgss4',\n",
       " 'images': {'symbol': 'https://images.pokemontcg.io/hgss4/symbol.png',\n",
       "  'logo': 'https://images.pokemontcg.io/hgss4/logo.png'},\n",
       " 'legalities': {'unlimited': 'Legal', 'expanded': None, 'standard': None},\n",
       " 'name': 'HS—Triumphant',\n",
       " 'printedTotal': 102,\n",
       " 'ptcgoCode': 'TM',\n",
       " 'releaseDate': '2010/11/03',\n",
       " 'series': 'HeartGold & SoulSilver',\n",
       " 'total': 103,\n",
       " 'updatedAt': '2018/03/04 10:35:00'}"
      ]
     },
     "execution_count": 13,
     "metadata": {},
     "output_type": "execute_result"
    }
   ],
   "source": [
    "data[0]['set']"
   ]
  }
 ],
 "metadata": {
  "kernelspec": {
   "display_name": "Python 3",
   "language": "python",
   "name": "python3"
  },
  "language_info": {
   "codemirror_mode": {
    "name": "ipython",
    "version": 3
   },
   "file_extension": ".py",
   "mimetype": "text/x-python",
   "name": "python",
   "nbconvert_exporter": "python",
   "pygments_lexer": "ipython3",
   "version": "3.10.8"
  }
 },
 "nbformat": 4,
 "nbformat_minor": 2
}
