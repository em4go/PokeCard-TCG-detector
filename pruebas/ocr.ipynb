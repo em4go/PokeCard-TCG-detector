{
 "cells": [
  {
   "cell_type": "code",
   "execution_count": 1,
   "metadata": {},
   "outputs": [],
   "source": [
    "import pytesseract\n",
    "from PIL import Image\n",
    "import cv2\n",
    "import dotenv\n",
    "import os"
   ]
  },
  {
   "cell_type": "code",
   "execution_count": 2,
   "metadata": {},
   "outputs": [],
   "source": [
    "dotenv.load_dotenv()\n",
    "API_KEY = os.getenv(\"API_KEY\")"
   ]
  },
  {
   "cell_type": "code",
   "execution_count": 5,
   "metadata": {},
   "outputs": [],
   "source": [
    "# img_path = 'infernape-card.png'\n",
    "img_path = 'Venusaur-EX.png'\n",
    "# img_path = \"infernape-dp1-121.png\""
   ]
  },
  {
   "cell_type": "code",
   "execution_count": 6,
   "metadata": {},
   "outputs": [
    {
     "name": "stdout",
     "output_type": "stream",
     "text": [
      "\n"
     ]
    }
   ],
   "source": [
    "# Carga la imagen en la que deseas realizar OCR\n",
    "image = cv2.imread(img_path)\n",
    "# image = image[30:90, 130:450]\n",
    "# image = image[0:0, 0:450]\n",
    "image = image[10:90, 0:450]\n",
    "\n",
    "# Convierte la imagen a escala de grises (puede mejorar el reconocimiento)\n",
    "gray = cv2.cvtColor(image, cv2.COLOR_BGR2GRAY)\n",
    "\n",
    "# Aplica un filtro de umbral (binarización) para resaltar el texto\n",
    "_, binary_image = cv2.threshold(gray, 0, 255, cv2.THRESH_BINARY + cv2.THRESH_OTSU)\n",
    "\n",
    "# Opcional: Aplica operaciones morfológicas para mejorar la calidad del texto\n",
    "kernel = cv2.getStructuringElement(cv2.MORPH_RECT, (3, 3))\n",
    "binary_image = cv2.morphologyEx(binary_image, cv2.MORPH_OPEN, kernel)\n",
    "\n",
    "# Opcional: Encuentra los contornos de las regiones de texto\n",
    "contours, _ = cv2.findContours(binary_image, cv2.RETR_EXTERNAL, cv2.CHAIN_APPROX_SIMPLE)\n",
    "\n",
    "# Opcional: Dibuja los contornos en la imagen original\n",
    "cv2.drawContours(image, contours, -1, (0, 255, 0), 2)\n",
    "\n",
    "# Guarda la imagen preprocesada si lo deseas\n",
    "cv2.imwrite('preprocesada.png', binary_image)\n",
    "\n",
    "# Realiza el OCR en la imagen preprocesada utilizando Tesseract\n",
    "text = pytesseract.image_to_string(binary_image)\n",
    "\n",
    "# Imprime el texto extraído\n",
    "print(text)\n"
   ]
  },
  {
   "cell_type": "code",
   "execution_count": 7,
   "metadata": {},
   "outputs": [],
   "source": [
    "# Convierte la imagen a escala de grises\n",
    "gray = cv2.cvtColor(image, cv2.COLOR_BGR2GRAY)\n",
    "\n",
    "# Aplica un filtro de umbral (binarización) para resaltar el texto\n",
    "_, binary_image = cv2.threshold(gray, 0, 255, cv2.THRESH_BINARY + cv2.THRESH_OTSU)\n",
    "\n",
    "# Encuentra los contornos en la imagen binarizada\n",
    "contours, _ = cv2.findContours(binary_image, cv2.RETR_EXTERNAL, cv2.CHAIN_APPROX_SIMPLE)\n",
    "\n"
   ]
  },
  {
   "cell_type": "code",
   "execution_count": 8,
   "metadata": {},
   "outputs": [
    {
     "name": "stdout",
     "output_type": "stream",
     "text": [
      "Texto: \n",
      "Coordenadas del contorno: (133, 68, 3, 3)\n",
      "Texto: \n",
      "Coordenadas del contorno: (135, 64, 3, 3)\n",
      "Texto: \n",
      "Coordenadas del contorno: (133, 54, 3, 3)\n",
      "Texto: \n",
      "Coordenadas del contorno: (137, 51, 3, 3)\n",
      "Texto: \n",
      "Coordenadas del contorno: (138, 47, 3, 3)\n",
      "Texto: \n",
      "Coordenadas del contorno: (141, 44, 3, 3)\n",
      "Texto: \n",
      "Coordenadas del contorno: (143, 40, 3, 3)\n",
      "Texto: \n",
      "Coordenadas del contorno: (146, 35, 3, 3)\n",
      "Texto: \n",
      "Coordenadas del contorno: (142, 32, 2, 2)\n",
      "Texto: \n",
      "Coordenadas del contorno: (146, 25, 3, 3)\n",
      "Texto: \n",
      "Coordenadas del contorno: (158, 19, 3, 3)\n",
      "Texto: \n",
      "Coordenadas del contorno: (73, 18, 2, 2)\n",
      "Texto: \n",
      "Coordenadas del contorno: (167, 16, 8, 7)\n",
      "Texto: \n",
      "Coordenadas del contorno: (74, 14, 2, 2)\n",
      "Texto: \n",
      "Coordenadas del contorno: (115, 13, 1, 1)\n",
      "Texto: \n",
      "Coordenadas del contorno: (192, 12, 4, 4)\n",
      "Texto: \n",
      "Coordenadas del contorno: (132, 12, 1, 1)\n",
      "Texto: \n",
      "Coordenadas del contorno: (138, 10, 1, 1)\n",
      "Texto: \n",
      "Coordenadas del contorno: (79, 10, 2, 2)\n",
      "Texto: \n",
      "Coordenadas del contorno: (175, 9, 3, 3)\n",
      "Texto: \n",
      "Coordenadas del contorno: (28, 6, 2, 2)\n",
      "Texto: \n",
      "Coordenadas del contorno: (8, 5, 3, 3)\n"
     ]
    },
    {
     "data": {
      "text/plain": [
       "True"
      ]
     },
     "execution_count": 8,
     "metadata": {},
     "output_type": "execute_result"
    }
   ],
   "source": [
    "for contour in contours:\n",
    "    # Obtiene las coordenadas del rectángulo del contorno\n",
    "    x, y, w, h = cv2.boundingRect(contour)\n",
    "    aspect_ratio = float(w) / h\n",
    "    if 0.8 < aspect_ratio < 1.2:\n",
    "        # El contorno tiene una relación de aspecto cercana a 1, considerarlo como área de texto\n",
    "\n",
    "    \n",
    "        # Recorta el área de texto de la imagen original\n",
    "        text_region = image[y:y+h, x:x+w]\n",
    "        \n",
    "        # Realiza el OCR en el área de texto\n",
    "        text = pytesseract.image_to_string(text_region, output_type=pytesseract.Output.STRING)\n",
    "        \n",
    "        # Imprime el texto extraído y las coordenadas del rectángulo del contorno\n",
    "        print(\"Texto:\", text)\n",
    "        print(\"Coordenadas del contorno:\", (x, y, w, h))\n",
    "        \n",
    "    # Dibuja un rectángulo alrededor del área de texto en la imagen original (opcional)\n",
    "    cv2.rectangle(image, (x, y), (x + w, y + h), (0, 255, 0), 2)\n",
    "\n",
    "# Guarda la imagen con los rectángulos dibujados (opcional)\n",
    "cv2.imwrite('imagen_con_rectangulos.png', image)\n"
   ]
  },
  {
   "cell_type": "code",
   "execution_count": null,
   "metadata": {},
   "outputs": [],
   "source": []
  }
 ],
 "metadata": {
  "kernelspec": {
   "display_name": "Python 3",
   "language": "python",
   "name": "python3"
  },
  "language_info": {
   "codemirror_mode": {
    "name": "ipython",
    "version": 3
   },
   "file_extension": ".py",
   "mimetype": "text/x-python",
   "name": "python",
   "nbconvert_exporter": "python",
   "pygments_lexer": "ipython3",
   "version": "3.10.8"
  }
 },
 "nbformat": 4,
 "nbformat_minor": 2
}
