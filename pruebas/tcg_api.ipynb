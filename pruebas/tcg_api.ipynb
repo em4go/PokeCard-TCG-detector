{
 "cells": [
  {
   "cell_type": "code",
   "execution_count": 1,
   "metadata": {},
   "outputs": [],
   "source": [
    "\n",
    "import dotenv\n",
    "import os\n",
    "import requests"
   ]
  },
  {
   "cell_type": "code",
   "execution_count": 2,
   "metadata": {},
   "outputs": [],
   "source": [
    "dotenv.load_dotenv()\n",
    "API_KEY = os.getenv(\"API_KEY\")"
   ]
  },
  {
   "cell_type": "code",
   "execution_count": 3,
   "metadata": {},
   "outputs": [],
   "source": [
    "BASE_URL = 'https://api.pokemontcg.io/v2/'"
   ]
  },
  {
   "cell_type": "code",
   "execution_count": null,
   "metadata": {},
   "outputs": [],
   "source": [
    "card_endpoints = {\n",
    "    'card_id': 'cards/<id>',\n",
    "    'sets': 'sets',\n",
    "    'types': 'types',\n",
    "    'subtypes': 'subtypes',\n",
    "    'supertypes': 'supertypes'\n",
    "}"
   ]
  },
  {
   "cell_type": "code",
   "execution_count": 21,
   "metadata": {},
   "outputs": [],
   "source": [
    "class RestClient():\n",
    "    api_key = None\n",
    "\n",
    "    @classmethod\n",
    "    def configure(cls, api_key):\n",
    "        cls.api_key = api_key\n",
    "\n",
    "    @classmethod\n",
    "    def get(cls, url: str, params: dict={}) -> dict or None:\n",
    "        \"\"\"Invoke an HTTP GET request on a url\n",
    "        \n",
    "        Args:\n",
    "            url (string): URL endpoint to request\n",
    "            params (dict): Dictionary of url parameters \n",
    "        Returns:\n",
    "            dict: JSON response as a dictionary\n",
    "        \"\"\"\n",
    "        request_url = url\n",
    "        \n",
    "        headers = { 'User-Agent': 'Mozilla/5.0' }\n",
    "        api_key = cls.api_key if cls.api_key is not None else os.getenv('POKEMONTCG_API_KEY')\n",
    "        if api_key:\n",
    "            headers['X-Api-Key'] = api_key\n",
    "\n",
    "        response = requests.get(request_url, params=params, headers=headers)\n",
    "        if response.status_code != 200:\n",
    "            return None\n",
    "        return response.json()"
   ]
  },
  {
   "cell_type": "code",
   "execution_count": 22,
   "metadata": {},
   "outputs": [],
   "source": [
    "class QueryBuilder():\n",
    "    def __init__(self, type):\n",
    "        self.params = {}\n",
    "        self.type = type\n",
    "    \n",
    "    def find(self, id: str) -> dict or None:\n",
    "        \"\"\"Get a resource by its id\n",
    "        \n",
    "        Args:\n",
    "            id (string): Resource id    \n",
    "        Returns:\n",
    "            dict: Resource dictionary\n",
    "        \"\"\"\n",
    "        url = f\"{BASE_URL}/{self.type.RESOURCE}/{id}\"\n",
    "        response = RestClient.get(url)['data']\n",
    "        return response\n",
    "\n",
    "    def where(self, **kwargs) -> list[dict]:\n",
    "        \"\"\"Adds a parameter to the dictionary of query parameters\n",
    "        \n",
    "        Args:\n",
    "            **kwargs: Dictionary of query parameters\n",
    "        Returns:\n",
    "            list of dict: List of resource dictionaries \n",
    "        \"\"\"\n",
    "        for key, value in kwargs.items():\n",
    "            self.params[key] = value\n",
    "\n",
    "        return self.all()\n",
    "    \n",
    "    def all(self) -> list[dict]:\n",
    "        \"\"\"Get all resources, automatically paging through data\n",
    "\n",
    "        Returns:\n",
    "            list of dict: List of resource dictionaries\n",
    "        \"\"\"\n",
    "        data_list = []\n",
    "        fetch_all = True\n",
    "        url = \"{BASE_URL}/{self.type.RESOURCE}\"\n",
    "\n",
    "        if 'page' in self.params:\n",
    "            fetch_all = False\n",
    "        else:\n",
    "            self.params['page'] = 1\n",
    "\n",
    "        while True:\n",
    "            response = RestClient.get(url, self.params)['data']\n",
    "            if len(response) > 0:\n",
    "                data_list.extend(response)\n",
    "\n",
    "                if fetch_all:\n",
    "                    self.params['page'] += 1\n",
    "                else:\n",
    "                    break\n",
    "            else:\n",
    "                break\n",
    "\n",
    "        return data_list\n"
   ]
  },
  {
   "cell_type": "code",
   "execution_count": 29,
   "metadata": {},
   "outputs": [],
   "source": [
    "class Card():\n",
    "    RESOURCE = 'cards'\n",
    "\n",
    "    @staticmethod\n",
    "    def find(id: str) -> dict or None:\n",
    "        \"\"\"Get a card by its id\n",
    "        \n",
    "        Args:\n",
    "            id (string): Card id    \n",
    "        Returns:\n",
    "            dict: Dictionary containing card data\n",
    "        \"\"\"\n",
    "        return QueryBuilder(Card).find(id)\n",
    "    \n",
    "    @staticmethod\n",
    "    def where(**kwargs) -> list[dict]:\n",
    "        \"\"\"Adds a parameter to the dictionary of query parameters\n",
    "        \n",
    "        Args:\n",
    "            **kwargs: Dictionary of query parameters\n",
    "        Returns:\n",
    "            list of dict: List of dictionaries containing card data\n",
    "        \"\"\"\n",
    "        return QueryBuilder(Card).where(**kwargs)"
   ]
  },
  {
   "cell_type": "code",
   "execution_count": 30,
   "metadata": {},
   "outputs": [],
   "source": [
    "class Set():\n",
    "    RESOURCE = 'sets'\n",
    "\n",
    "    @staticmethod\n",
    "    def find(id: str) -> dict or None:\n",
    "        \"\"\"Get a set by its id\n",
    "        \n",
    "        Args:\n",
    "            id (string): Set id    \n",
    "        Returns:\n",
    "            Set: Instance of the Set\n",
    "        \"\"\"\n",
    "        return QueryBuilder(Set).find(id)\n",
    "    \n",
    "    @staticmethod\n",
    "    def where(**kwargs) -> list[dict]:\n",
    "        \"\"\"Adds a parameter to the dictionary of query parameters\n",
    "        \n",
    "        Args:\n",
    "            **kwargs: Arbitrary keyword arguments.\n",
    "        Returns:\n",
    "            list of dict: List of dictionaries containing set data\n",
    "        \"\"\"\n",
    "        return QueryBuilder(Set).where(**kwargs)\n",
    "    \n",
    "    @staticmethod\n",
    "    def all():\n",
    "        \"\"\"Get all sets, automatically paging through data\n",
    "\n",
    "        Returns:\n",
    "            list of dict: List of dictionaries containing set data\n",
    "        \"\"\"\n",
    "        return QueryBuilder(Set).all()"
   ]
  },
  {
   "cell_type": "code",
   "execution_count": 32,
   "metadata": {},
   "outputs": [],
   "source": [
    "class Type():\n",
    "    RESOURCES = 'types'\n",
    "\n",
    "    @staticmethod\n",
    "    def all() -> list[dict]:\n",
    "        \"\"\"Get all types, automatically paging through data\n",
    "\n",
    "        Returns:\n",
    "            list of dict: List of dictionaries containing type data\n",
    "        \"\"\"\n",
    "        return QueryBuilder(Type).all()\n",
    "    "
   ]
  },
  {
   "cell_type": "code",
   "execution_count": 33,
   "metadata": {},
   "outputs": [],
   "source": [
    "class Subtype():\n",
    "    RESOURCES = 'subtypes'\n",
    "\n",
    "    @staticmethod\n",
    "    def all() -> list[dict]:\n",
    "        \"\"\"Get all subtypes, automatically paging through data\n",
    "\n",
    "        Returns:\n",
    "            list of dict: List of dictionaries containing subtype data\n",
    "        \"\"\"\n",
    "        return QueryBuilder(Subtype).all()"
   ]
  },
  {
   "cell_type": "code",
   "execution_count": null,
   "metadata": {},
   "outputs": [],
   "source": [
    "class Supertype():\n",
    "    RESOURCES = 'supertypes'\n",
    "\n",
    "    @staticmethod\n",
    "    def all() -> list[dict]:\n",
    "        \"\"\"Get all supertypes, automatically paging through data\n",
    "\n",
    "        Returns:\n",
    "            list of dict: List of dictionaries containing supertype data\n",
    "        \"\"\"\n",
    "        return QueryBuilder(Supertype).all()"
   ]
  },
  {
   "cell_type": "code",
   "execution_count": null,
   "metadata": {},
   "outputs": [],
   "source": [
    "class Rarity():\n",
    "    RESOURCES = 'rarities'\n",
    "\n",
    "    @staticmethod\n",
    "    def all() -> list[dict]:\n",
    "        \"\"\"Get all rarities, automatically paging through data\n",
    "\n",
    "        Returns:\n",
    "            list of dict: List of dictionaries containing rarity data\n",
    "        \"\"\"\n",
    "        return QueryBuilder(Rarity).all()"
   ]
  },
  {
   "cell_type": "code",
   "execution_count": 27,
   "metadata": {},
   "outputs": [],
   "source": [
    "poke_id = 'xy7-54'\n",
    "url = f\"{BASE_URL}/cards/{poke_id}\"\n",
    "response = RestClient.get(url)['data']"
   ]
  },
  {
   "cell_type": "code",
   "execution_count": 28,
   "metadata": {},
   "outputs": [
    {
     "data": {
      "text/plain": [
       "dict_keys(['id', 'name', 'supertype', 'subtypes', 'hp', 'types', 'evolvesFrom', 'abilities', 'attacks', 'weaknesses', 'resistances', 'retreatCost', 'convertedRetreatCost', 'set', 'number', 'artist', 'rarity', 'flavorText', 'nationalPokedexNumbers', 'legalities', 'images', 'tcgplayer', 'cardmarket'])"
      ]
     },
     "execution_count": 28,
     "metadata": {},
     "output_type": "execute_result"
    }
   ],
   "source": [
    "response.keys()"
   ]
  },
  {
   "cell_type": "code",
   "execution_count": null,
   "metadata": {},
   "outputs": [],
   "source": []
  }
 ],
 "metadata": {
  "kernelspec": {
   "display_name": "Python 3",
   "language": "python",
   "name": "python3"
  },
  "language_info": {
   "codemirror_mode": {
    "name": "ipython",
    "version": 3
   },
   "file_extension": ".py",
   "mimetype": "text/x-python",
   "name": "python",
   "nbconvert_exporter": "python",
   "pygments_lexer": "ipython3",
   "version": "3.10.8"
  }
 },
 "nbformat": 4,
 "nbformat_minor": 2
}
