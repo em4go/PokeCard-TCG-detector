{
 "cells": [
  {
   "cell_type": "code",
   "execution_count": 2,
   "metadata": {},
   "outputs": [],
   "source": [
    "import msgpack\n",
    "import cv2\n",
    "# import easyocr\n",
    "import imagehash\n",
    "import os\n",
    "import matplotlib.pyplot as plt\n",
    "from PIL import Image\n",
    "import pandas as pd"
   ]
  },
  {
   "cell_type": "code",
   "execution_count": 3,
   "metadata": {},
   "outputs": [
    {
     "name": "stdout",
     "output_type": "stream",
     "text": [
      "17121\n"
     ]
    }
   ],
   "source": [
    "# list files in downloaded_images folder\n",
    "card_files = set(os.listdir(\"downloaded_images\"))\n",
    "print(len(card_files))"
   ]
  },
  {
   "cell_type": "code",
   "execution_count": 4,
   "metadata": {},
   "outputs": [],
   "source": [
    "data_source = 'cards.msgpack'\n",
    "with open(data_source, 'rb') as file:\n",
    "    data = msgpack.load(file, raw=False)"
   ]
  },
  {
   "cell_type": "code",
   "execution_count": 5,
   "metadata": {},
   "outputs": [],
   "source": [
    "def get_image_route(card_id: str):\n",
    "    return card_id + '.png'"
   ]
  },
  {
   "cell_type": "code",
   "execution_count": 12,
   "metadata": {},
   "outputs": [],
   "source": [
    "def get_hashes(img):\n",
    "    perceptual = imagehash.phash(img, 32, 8)\n",
    "    difference = imagehash.dhash(img, 32)\n",
    "    wavelet = imagehash.whash(img, 32)\n",
    "    color = imagehash.colorhash(img)\n",
    "    return {\n",
    "        'perceptual': perceptual,\n",
    "        'difference': difference,\n",
    "        'wavelet': wavelet,\n",
    "        'color': color\n",
    "    }"
   ]
  },
  {
   "cell_type": "code",
   "execution_count": 13,
   "metadata": {},
   "outputs": [],
   "source": [
    "hashes = []\n",
    "\n",
    "for card in data:\n",
    "    file_name = get_image_route(card['id'])\n",
    "    img_src = os.path.join('downloaded_images', file_name)\n",
    "    if file_name not in card_files:\n",
    "        continue\n",
    "\n",
    "    img = Image.open(img_src)\n",
    "\n",
    "    card_hashes = get_hashes(img)\n",
    "    card_hashes['id'] = card['id']\n",
    "    hashes.append(card_hashes)\n",
    "\n",
    "df = pd.DataFrame(hashes)"
   ]
  },
  {
   "cell_type": "code",
   "execution_count": 14,
   "metadata": {},
   "outputs": [
    {
     "data": {
      "text/html": [
       "<div>\n",
       "<style scoped>\n",
       "    .dataframe tbody tr th:only-of-type {\n",
       "        vertical-align: middle;\n",
       "    }\n",
       "\n",
       "    .dataframe tbody tr th {\n",
       "        vertical-align: top;\n",
       "    }\n",
       "\n",
       "    .dataframe thead th {\n",
       "        text-align: right;\n",
       "    }\n",
       "</style>\n",
       "<table border=\"1\" class=\"dataframe\">\n",
       "  <thead>\n",
       "    <tr style=\"text-align: right;\">\n",
       "      <th></th>\n",
       "      <th>perceptual</th>\n",
       "      <th>difference</th>\n",
       "      <th>wavelet</th>\n",
       "      <th>color</th>\n",
       "      <th>id</th>\n",
       "    </tr>\n",
       "  </thead>\n",
       "  <tbody>\n",
       "    <tr>\n",
       "      <th>0</th>\n",
       "      <td>9eaebefa6ebc147ac9057145994bfe6924d11bc566d357...</td>\n",
       "      <td>b9c644ca4bd871374cdec23716d6a6cd16f8028716e089...</td>\n",
       "      <td>7ffffffea57ffd93800ffb03c066f005c13fe001c07ffc...</td>\n",
       "      <td>06e00000000</td>\n",
       "      <td>hgss4-1</td>\n",
       "    </tr>\n",
       "    <tr>\n",
       "      <th>1</th>\n",
       "      <td>bffa80571faaa3578542af55f147efc449055d607aa15c...</td>\n",
       "      <td>b59804e42ce6e1d39a67621317bcdea317f65e031dcc77...</td>\n",
       "      <td>7ffffffece37ffc3ef01ff03c0dffffbc03ffffb807f13...</td>\n",
       "      <td>02580000000</td>\n",
       "      <td>xy5-1</td>\n",
       "    </tr>\n",
       "    <tr>\n",
       "      <th>2</th>\n",
       "      <td>dabe115a5abcd542c10eeaf9a55b2efb1c5bbab51ffb0c...</td>\n",
       "      <td>7d20032913d2061b12d68a1b2ce1822629872017930761...</td>\n",
       "      <td>fffff1ff8009e709817fffcb8000c003c000f003c80030...</td>\n",
       "      <td>02400010000</td>\n",
       "      <td>pl1-1</td>\n",
       "    </tr>\n",
       "    <tr>\n",
       "      <th>3</th>\n",
       "      <td>9abb80535bba8455e100fba6e144bf8ec447eaf38cf680...</td>\n",
       "      <td>3d2003a913db061b12db8c4b2ce6cd272133d21783d3d0...</td>\n",
       "      <td>fffff9ffc009ff0983ffffc380004003c0002803c000f8...</td>\n",
       "      <td>03601008000</td>\n",
       "      <td>dp3-1</td>\n",
       "    </tr>\n",
       "    <tr>\n",
       "      <th>4</th>\n",
       "      <td>bbffa0ff3bbc017fc007d150c44fff50e401ff503d81ef...</td>\n",
       "      <td>bf8003ec23431f9338333f1316e3606717a64887134998...</td>\n",
       "      <td>7ffffffefd0003f3fc000783813db003c3f1f803c1a028...</td>\n",
       "      <td>023c0000000</td>\n",
       "      <td>det1-1</td>\n",
       "    </tr>\n",
       "  </tbody>\n",
       "</table>\n",
       "</div>"
      ],
      "text/plain": [
       "                                          perceptual  \\\n",
       "0  9eaebefa6ebc147ac9057145994bfe6924d11bc566d357...   \n",
       "1  bffa80571faaa3578542af55f147efc449055d607aa15c...   \n",
       "2  dabe115a5abcd542c10eeaf9a55b2efb1c5bbab51ffb0c...   \n",
       "3  9abb80535bba8455e100fba6e144bf8ec447eaf38cf680...   \n",
       "4  bbffa0ff3bbc017fc007d150c44fff50e401ff503d81ef...   \n",
       "\n",
       "                                          difference  \\\n",
       "0  b9c644ca4bd871374cdec23716d6a6cd16f8028716e089...   \n",
       "1  b59804e42ce6e1d39a67621317bcdea317f65e031dcc77...   \n",
       "2  7d20032913d2061b12d68a1b2ce1822629872017930761...   \n",
       "3  3d2003a913db061b12db8c4b2ce6cd272133d21783d3d0...   \n",
       "4  bf8003ec23431f9338333f1316e3606717a64887134998...   \n",
       "\n",
       "                                             wavelet        color       id  \n",
       "0  7ffffffea57ffd93800ffb03c066f005c13fe001c07ffc...  06e00000000  hgss4-1  \n",
       "1  7ffffffece37ffc3ef01ff03c0dffffbc03ffffb807f13...  02580000000    xy5-1  \n",
       "2  fffff1ff8009e709817fffcb8000c003c000f003c80030...  02400010000    pl1-1  \n",
       "3  fffff9ffc009ff0983ffffc380004003c0002803c000f8...  03601008000    dp3-1  \n",
       "4  7ffffffefd0003f3fc000783813db003c3f1f803c1a028...  023c0000000   det1-1  "
      ]
     },
     "execution_count": 14,
     "metadata": {},
     "output_type": "execute_result"
    }
   ],
   "source": [
    "df.head()"
   ]
  },
  {
   "cell_type": "code",
   "execution_count": 15,
   "metadata": {},
   "outputs": [],
   "source": [
    "df.to_csv('card_hashes_32b.csv')"
   ]
  },
  {
   "cell_type": "code",
   "execution_count": 17,
   "metadata": {},
   "outputs": [],
   "source": [
    "df.to_pickle('card_hashes_32b.pickle')"
   ]
  },
  {
   "cell_type": "code",
   "execution_count": 16,
   "metadata": {},
   "outputs": [
    {
     "data": {
      "text/plain": [
       "(825, 600, 3)"
      ]
     },
     "execution_count": 16,
     "metadata": {},
     "output_type": "execute_result"
    }
   ],
   "source": [
    "img = cv2.imread(r'.\\downloaded_images\\pl1-SH4.png')\n",
    "img.shape"
   ]
  },
  {
   "cell_type": "code",
   "execution_count": 35,
   "metadata": {},
   "outputs": [
    {
     "data": {
      "text/plain": [
       "464"
      ]
     },
     "execution_count": 35,
     "metadata": {},
     "output_type": "execute_result"
    }
   ],
   "source": [
    "df['perceptual'][0] - df['perceptual'][1]"
   ]
  }
 ],
 "metadata": {
  "kernelspec": {
   "display_name": "Python 3",
   "language": "python",
   "name": "python3"
  },
  "language_info": {
   "codemirror_mode": {
    "name": "ipython",
    "version": 3
   },
   "file_extension": ".py",
   "mimetype": "text/x-python",
   "name": "python",
   "nbconvert_exporter": "python",
   "pygments_lexer": "ipython3",
   "version": "3.10.8"
  }
 },
 "nbformat": 4,
 "nbformat_minor": 2
}
